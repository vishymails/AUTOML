{
  "nbformat": 4,
  "nbformat_minor": 2,
  "metadata": {
    "colab": {
      "name": "Chapter6_HousingPricePredictor",
      "provenance": [],
      "collapsed_sections": []
    },
    "kernelspec": {
      "display_name": "Python 3",
      "language": "python",
      "name": "python3"
    },
    "language_info": {
      "codemirror_mode": {
        "name": "ipython",
        "version": 3
      },
      "file_extension": ".py",
      "mimetype": "text/x-python",
      "name": "python",
      "nbconvert_exporter": "python",
      "pygments_lexer": "ipython3",
      "version": "3.7.0"
    }
  },
  "cells": [
    {
      "cell_type": "markdown",
      "source": [
        "#### Installing AutoKeras "
      ],
      "metadata": {
        "id": "BuytBbOldI4p"
      }
    },
    {
      "cell_type": "code",
      "execution_count": null,
      "source": [
        "pip install autokeras"
      ],
      "outputs": [],
      "metadata": {
        "id": "xFHQOmXoSYbo"
      }
    },
    {
      "cell_type": "code",
      "execution_count": 2,
      "source": [
        "import autokeras as ak\n",
        "import pandas as pd\n",
        "from sklearn.model_selection import train_test_split\n"
      ],
      "outputs": [],
      "metadata": {
        "id": "y3IgqZhAUohb"
      }
    },
    {
      "cell_type": "markdown",
      "source": [
        "#### Getting the datasets \n",
        "We download the Boston housing prices dataset and create the training and test subsets."
      ],
      "metadata": {
        "id": "iuL-84KSSYbu"
      }
    },
    {
      "cell_type": "code",
      "execution_count": 3,
      "source": [
        "df = pd.read_csv(\"boston.csv\")\n",
        "y = df.pop('MEDV')\n",
        "X = df\n",
        "train_data, test_data, train_targets, test_targets = train_test_split(X,y,test_size=0.2)"
      ],
      "outputs": [],
      "metadata": {
        "id": "NloyCKvoSYbv"
      }
    },
    {
      "cell_type": "markdown",
      "source": [
        "Let’s take a look at the datasets dimensions:\n"
      ],
      "metadata": {
        "id": "S--uhhjAmDUn"
      }
    },
    {
      "cell_type": "markdown",
      "source": [
        "We can see that has 404 training samples and test samples 102, each one with 13 average numerical characteristics, as crime rate per capita, number of rooms, access to roads, etc.\n",
        "The targets are the median values of owner-occupied homes, in thousands of dollars:"
      ],
      "metadata": {
        "id": "O24iViqrmd8S"
      }
    },
    {
      "cell_type": "markdown",
      "source": [
        "The prices are typically between \\$10,000 and \\$50,000. Prices may seem cheap, but keep in mind we are talking about 1970s"
      ],
      "metadata": {
        "id": "k8aniJm3mjcz"
      }
    },
    {
      "cell_type": "markdown",
      "source": [
        "### Creating and training the models"
      ],
      "metadata": {
        "id": "7CgvSBr993W1"
      }
    },
    {
      "cell_type": "code",
      "execution_count": null,
      "source": [
        " \n",
        "# Initialize the StructuredDataRegressor\n",
        "reg = ak.StructuredDataRegressor(\n",
        "    max_trials=2,\n",
        "    overwrite=True,\n",
        "    metrics=['mae']\n",
        ")\n",
        " \n",
        "# Search for the best model.\n",
        "reg.fit(\n",
        "    train_data.to_numpy(),\n",
        "    train_targets.to_numpy(),\n",
        "    epochs=50,\n",
        ")"
      ],
      "outputs": [],
      "metadata": {
        "id": "chWQb7AVSkTe"
      }
    },
    {
      "cell_type": "markdown",
      "source": [
        "For regression models AutoKeras uses MSE as the default loss: mean square error, the square of the difference between the predictions and the objectives. But for this example, we are also monitoring a new metric during training that will give us more information: mean absolute error (MAE). It is the absolute value of the difference between the predictions and the targets. For example, an MAE of 1.5 in this problem would mean that your predictions are off $1500 on average."
      ],
      "metadata": {
        "id": "tZ2Ov73fuT2S"
      }
    },
    {
      "cell_type": "markdown",
      "source": [
        "### Evaluating the best model"
      ],
      "metadata": {
        "id": "7BF5OpQr-IEf"
      }
    },
    {
      "cell_type": "code",
      "execution_count": null,
      "source": [
        "reg.evaluate(test_data, test_targets)"
      ],
      "outputs": [],
      "metadata": {
        "id": "fkoBzlfIWgAp"
      }
    },
    {
      "cell_type": "markdown",
      "source": [
        "###Visualizing the model"
      ],
      "metadata": {
        "id": "8ThKQ5GvI193"
      }
    },
    {
      "cell_type": "code",
      "execution_count": null,
      "source": [
        "# First we export the model to a keras model\n",
        "keras_model = reg.export_model()\n",
        " \n",
        "# Now, we ask for the model Sumary:\n",
        "keras_model.summary()"
      ],
      "outputs": [],
      "metadata": {
        "id": "jokSoUSCN01Y"
      }
    },
    {
      "cell_type": "code",
      "execution_count": null,
      "source": [
        "from tensorflow.keras.utils import plot_model\n",
        "plot_model(keras_model)"
      ],
      "outputs": [],
      "metadata": {
        "id": "j0UJsat3N387"
      }
    }
  ]
}